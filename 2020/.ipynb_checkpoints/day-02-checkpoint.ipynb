{
 "cells": [
  {
   "cell_type": "markdown",
   "id": "composite-source",
   "metadata": {},
   "source": [
    "# --- Day 2: Password Philosophy ---\n",
    "Your flight departs in a few days from the coastal airport; the easiest way down to the coast from here is via toboggan.\n",
    "\n",
    "The shopkeeper at the North Pole Toboggan Rental Shop is having a bad day. \"Something's wrong with our computers; we can't log in!\" You ask if you can take a look.\n",
    "\n",
    "Their password database seems to be a little corrupted: some of the passwords wouldn't have been allowed by the Official Toboggan Corporate Policy that was in effect when they were chosen.\n",
    "\n",
    "To try to debug the problem, they have created a list (your puzzle input) of passwords (according to the corrupted database) and the corporate policy when that password was set.\n",
    "\n",
    "For example, suppose you have the following list:\n",
    "\n",
    "```\n",
    "1-3 a: abcde\n",
    "1-3 b: cdefg\n",
    "2-9 c: ccccccccc\n",
    "```\n",
    "\n",
    "Each line gives the password policy and then the password. The password policy indicates the lowest and highest number of times a given letter must appear for the password to be valid. For example, 1-3 a means that the password must contain a at least 1 time and at most 3 times.\n",
    "\n",
    "In the above example, 2 passwords are valid. The middle password, cdefg, is not; it contains no instances of b, but needs at least 1. The first and third passwords are valid: they contain one a or nine c, both within the limits of their respective policies.\n",
    "\n",
    "How many passwords are valid according to their policies?"
   ]
  },
  {
   "cell_type": "code",
   "execution_count": 1,
   "id": "motivated-genius",
   "metadata": {},
   "outputs": [
    {
     "data": {
      "text/plain": [
       "defined \u001b[32mclass\u001b[39m \u001b[36mMetadata\u001b[39m\n",
       "defined \u001b[32mclass\u001b[39m \u001b[36mPassword\u001b[39m\n",
       "defined \u001b[32mobject\u001b[39m \u001b[36mMetadata\u001b[39m\n",
       "defined \u001b[32mobject\u001b[39m \u001b[36mPassword\u001b[39m\n",
       "\u001b[36mdefaultPolicy\u001b[39m: \u001b[32mPassword\u001b[39m => \u001b[32mBoolean\u001b[39m = ammonite.$sess.cmd0$Helper$$Lambda$1993/0x000000080137a6f8@19cd6750\n",
       "defined \u001b[32mfunction\u001b[39m \u001b[36mcountByPolicy\u001b[39m"
      ]
     },
     "execution_count": 1,
     "metadata": {},
     "output_type": "execute_result"
    }
   ],
   "source": [
    "case class Metadata(range : (Int, Int), character : Char)\n",
    "case class Password(metadata : Metadata, plain : String)\n",
    "\n",
    "object Metadata {\n",
    "    def unapply(metadata : Metadata) : ((Int, Int), Char) = {\n",
    "        (metadata.range, metadata.character)\n",
    "    }\n",
    "}\n",
    "\n",
    "object Password {\n",
    "    def apply(password : String) : Password = {\n",
    "        val items = password.replaceFirst(\":\", \"\").split(\" \").map(_.split(\"-\")).flatten\n",
    "        val metadata = Metadata((items(0).toInt, items(1).toInt), items(2).charAt(0))\n",
    "        Password(metadata, items(3))\n",
    "    }\n",
    "    \n",
    "    def unapply(password : Password) : (Metadata, String) = {\n",
    "        (password.metadata, password.plain)\n",
    "    }\n",
    "}\n",
    "\n",
    "val defaultPolicy = (password : Password) => {\n",
    "   val ((min, max), c) = Metadata.unapply(password.metadata)\n",
    "    val count = password.plain.count(_ == c)\n",
    "    (count >= min) &&  (count <= max)\n",
    "}\n",
    "\n",
    "def countByPolicy(data : List[Password], policy : Password => Boolean = defaultPolicy) : Int = {\n",
    "    data.filter(policy).size\n",
    "}"
   ]
  },
  {
   "cell_type": "code",
   "execution_count": 2,
   "id": "nuclear-monitor",
   "metadata": {},
   "outputs": [
    {
     "data": {
      "text/plain": [
       "\u001b[36mtest\u001b[39m: \u001b[32mList\u001b[39m[\u001b[32mPassword\u001b[39m] = \u001b[33mList\u001b[39m(\n",
       "  \u001b[33mPassword\u001b[39m(\u001b[33mMetadata\u001b[39m((\u001b[32m1\u001b[39m, \u001b[32m3\u001b[39m), \u001b[32m'a'\u001b[39m), \u001b[32m\"abcde\"\u001b[39m),\n",
       "  \u001b[33mPassword\u001b[39m(\u001b[33mMetadata\u001b[39m((\u001b[32m1\u001b[39m, \u001b[32m3\u001b[39m), \u001b[32m'b'\u001b[39m), \u001b[32m\"cdefg\"\u001b[39m),\n",
       "  \u001b[33mPassword\u001b[39m(\u001b[33mMetadata\u001b[39m((\u001b[32m2\u001b[39m, \u001b[32m9\u001b[39m), \u001b[32m'c'\u001b[39m), \u001b[32m\"ccccccccc\"\u001b[39m)\n",
       ")\n",
       "\u001b[36mres1_1\u001b[39m: \u001b[32mInt\u001b[39m = \u001b[32m2\u001b[39m"
      ]
     },
     "execution_count": 2,
     "metadata": {},
     "output_type": "execute_result"
    }
   ],
   "source": [
    "val test = List(\"1-3 a: abcde\", \"1-3 b: cdefg\", \"2-9 c: ccccccccc\").map(Password.apply)\n",
    "countByPolicy(test)"
   ]
  },
  {
   "cell_type": "markdown",
   "id": "hidden-inquiry",
   "metadata": {},
   "source": [
    "## -- Part One --"
   ]
  },
  {
   "cell_type": "code",
   "execution_count": 3,
   "id": "dated-falls",
   "metadata": {},
   "outputs": [
    {
     "data": {
      "text/plain": [
       "\u001b[32mimport \u001b[39m\u001b[36mscala.io.Source\n",
       "\n",
       "\u001b[39m\n",
       "\u001b[36mdata\u001b[39m: \u001b[32mList\u001b[39m[\u001b[32mPassword\u001b[39m] = \u001b[33mList\u001b[39m(\n",
       "  \u001b[33mPassword\u001b[39m(\u001b[33mMetadata\u001b[39m((\u001b[32m1\u001b[39m, \u001b[32m4\u001b[39m), \u001b[32m'j'\u001b[39m), \u001b[32m\"jjjqzmgbjwpj\"\u001b[39m),\n",
       "  \u001b[33mPassword\u001b[39m(\u001b[33mMetadata\u001b[39m((\u001b[32m2\u001b[39m, \u001b[32m4\u001b[39m), \u001b[32m'w'\u001b[39m), \u001b[32m\"sckwwf\"\u001b[39m),\n",
       "  \u001b[33mPassword\u001b[39m(\u001b[33mMetadata\u001b[39m((\u001b[32m1\u001b[39m, \u001b[32m13\u001b[39m), \u001b[32m'b'\u001b[39m), \u001b[32m\"bcbbbbbbbbbbhbb\"\u001b[39m),\n",
       "  \u001b[33mPassword\u001b[39m(\u001b[33mMetadata\u001b[39m((\u001b[32m10\u001b[39m, \u001b[32m11\u001b[39m), \u001b[32m'x'\u001b[39m), \u001b[32m\"xjxxxxxxxxzxxx\"\u001b[39m),\n",
       "  \u001b[33mPassword\u001b[39m(\u001b[33mMetadata\u001b[39m((\u001b[32m13\u001b[39m, \u001b[32m14\u001b[39m), \u001b[32m'd'\u001b[39m), \u001b[32m\"dddddddddddddd\"\u001b[39m),\n",
       "  \u001b[33mPassword\u001b[39m(\u001b[33mMetadata\u001b[39m((\u001b[32m16\u001b[39m, \u001b[32m18\u001b[39m), \u001b[32m's'\u001b[39m), \u001b[32m\"ksttbjsstpnsvtcjnx\"\u001b[39m),\n",
       "  \u001b[33mPassword\u001b[39m(\u001b[33mMetadata\u001b[39m((\u001b[32m3\u001b[39m, \u001b[32m8\u001b[39m), \u001b[32m'k'\u001b[39m), \u001b[32m\"gkkqkbpvkrx\"\u001b[39m),\n",
       "  \u001b[33mPassword\u001b[39m(\u001b[33mMetadata\u001b[39m((\u001b[32m3\u001b[39m, \u001b[32m7\u001b[39m), \u001b[32m'c'\u001b[39m), \u001b[32m\"mccnjgcxkfkp\"\u001b[39m),\n",
       "  \u001b[33mPassword\u001b[39m(\u001b[33mMetadata\u001b[39m((\u001b[32m3\u001b[39m, \u001b[32m7\u001b[39m), \u001b[32m'b'\u001b[39m), \u001b[32m\"hgbqzrjvwqbfc\"\u001b[39m),\n",
       "  \u001b[33mPassword\u001b[39m(\u001b[33mMetadata\u001b[39m((\u001b[32m8\u001b[39m, \u001b[32m14\u001b[39m), \u001b[32m'r'\u001b[39m), \u001b[32m\"rrrrrrrfrrrtrrrr\"\u001b[39m),\n",
       "  \u001b[33mPassword\u001b[39m(\u001b[33mMetadata\u001b[39m((\u001b[32m5\u001b[39m, \u001b[32m6\u001b[39m), \u001b[32m'v'\u001b[39m), \u001b[32m\"vvvvwpvvv\"\u001b[39m),\n",
       "  \u001b[33mPassword\u001b[39m(\u001b[33mMetadata\u001b[39m((\u001b[32m4\u001b[39m, \u001b[32m5\u001b[39m), \u001b[32m'b'\u001b[39m), \u001b[32m\"zfkpb\"\u001b[39m),\n",
       "  \u001b[33mPassword\u001b[39m(\u001b[33mMetadata\u001b[39m((\u001b[32m12\u001b[39m, \u001b[32m13\u001b[39m), \u001b[32m'n'\u001b[39m), \u001b[32m\"nwnwdplnhfhlnnnntfn\"\u001b[39m),\n",
       "  \u001b[33mPassword\u001b[39m(\u001b[33mMetadata\u001b[39m((\u001b[32m9\u001b[39m, \u001b[32m14\u001b[39m), \u001b[32m'z'\u001b[39m), \u001b[32m\"sxzjzfrzztczlw\"\u001b[39m),\n",
       "  \u001b[33mPassword\u001b[39m(\u001b[33mMetadata\u001b[39m((\u001b[32m1\u001b[39m, \u001b[32m14\u001b[39m), \u001b[32m'n'\u001b[39m), \u001b[32m\"vnnnnnnnnnnnnnnnnnnn\"\u001b[39m),\n",
       "  \u001b[33mPassword\u001b[39m(\u001b[33mMetadata\u001b[39m((\u001b[32m4\u001b[39m, \u001b[32m6\u001b[39m), \u001b[32m'b'\u001b[39m), \u001b[32m\"bbbsbb\"\u001b[39m),\n",
       "  \u001b[33mPassword\u001b[39m(\u001b[33mMetadata\u001b[39m((\u001b[32m2\u001b[39m, \u001b[32m7\u001b[39m), \u001b[32m'x'\u001b[39m), \u001b[32m\"xxsjxpxx\"\u001b[39m),\n",
       "  \u001b[33mPassword\u001b[39m(\u001b[33mMetadata\u001b[39m((\u001b[32m6\u001b[39m, \u001b[32m8\u001b[39m), \u001b[32m'z'\u001b[39m), \u001b[32m\"wzfqzzzzn\"\u001b[39m),\n",
       "  \u001b[33mPassword\u001b[39m(\u001b[33mMetadata\u001b[39m((\u001b[32m2\u001b[39m, \u001b[32m17\u001b[39m), \u001b[32m'b'\u001b[39m), \u001b[32m\"cbbmwqmjxhkvjnfbx\"\u001b[39m),\n",
       "  \u001b[33mPassword\u001b[39m(\u001b[33mMetadata\u001b[39m((\u001b[32m3\u001b[39m, \u001b[32m9\u001b[39m), \u001b[32m'h'\u001b[39m), \u001b[32m\"hhhhhghhshh\"\u001b[39m),\n",
       "  \u001b[33mPassword\u001b[39m(\u001b[33mMetadata\u001b[39m((\u001b[32m3\u001b[39m, \u001b[32m13\u001b[39m), \u001b[32m'm'\u001b[39m), \u001b[32m\"mmzmmmmmmmmmxmmmb\"\u001b[39m),\n",
       "  \u001b[33mPassword\u001b[39m(\u001b[33mMetadata\u001b[39m((\u001b[32m2\u001b[39m, \u001b[32m4\u001b[39m), \u001b[32m'v'\u001b[39m), \u001b[32m\"xnxv\"\u001b[39m),\n",
       "  \u001b[33mPassword\u001b[39m(\u001b[33mMetadata\u001b[39m((\u001b[32m3\u001b[39m, \u001b[32m4\u001b[39m), \u001b[32m's'\u001b[39m), \u001b[32m\"tsxsns\"\u001b[39m),\n",
       "  \u001b[33mPassword\u001b[39m(\u001b[33mMetadata\u001b[39m((\u001b[32m1\u001b[39m, \u001b[32m11\u001b[39m), \u001b[32m'm'\u001b[39m), \u001b[32m\"mmmmzvmmwmmmmmmmmmm\"\u001b[39m),\n",
       "  \u001b[33mPassword\u001b[39m(\u001b[33mMetadata\u001b[39m((\u001b[32m3\u001b[39m, \u001b[32m6\u001b[39m), \u001b[32m'h'\u001b[39m), \u001b[32m\"hhhhhkhhhh\"\u001b[39m),\n",
       "  \u001b[33mPassword\u001b[39m(\u001b[33mMetadata\u001b[39m((\u001b[32m9\u001b[39m, \u001b[32m10\u001b[39m), \u001b[32m'n'\u001b[39m), \u001b[32m\"nnnnnznstln\"\u001b[39m),\n",
       "  \u001b[33mPassword\u001b[39m(\u001b[33mMetadata\u001b[39m((\u001b[32m9\u001b[39m, \u001b[32m10\u001b[39m), \u001b[32m's'\u001b[39m), \u001b[32m\"svrssgssstss\"\u001b[39m),\n",
       "  \u001b[33mPassword\u001b[39m(\u001b[33mMetadata\u001b[39m((\u001b[32m3\u001b[39m, \u001b[32m4\u001b[39m), \u001b[32m'j'\u001b[39m), \u001b[32m\"jjvd\"\u001b[39m),\n",
       "  \u001b[33mPassword\u001b[39m(\u001b[33mMetadata\u001b[39m((\u001b[32m1\u001b[39m, \u001b[32m3\u001b[39m), \u001b[32m'n'\u001b[39m), \u001b[32m\"nnnnn\"\u001b[39m),\n",
       "  \u001b[33mPassword\u001b[39m(\u001b[33mMetadata\u001b[39m((\u001b[32m3\u001b[39m, \u001b[32m5\u001b[39m), \u001b[32m'w'\u001b[39m), \u001b[32m\"gwhdxvpf\"\u001b[39m),\n",
       "  \u001b[33mPassword\u001b[39m(\u001b[33mMetadata\u001b[39m((\u001b[32m3\u001b[39m, \u001b[32m10\u001b[39m), \u001b[32m'c'\u001b[39m), \u001b[32m\"bxldcllfmxkhzm\"\u001b[39m),\n",
       "  \u001b[33mPassword\u001b[39m(\u001b[33mMetadata\u001b[39m((\u001b[32m7\u001b[39m, \u001b[32m9\u001b[39m), \u001b[32m'v'\u001b[39m), \u001b[32m\"vvvnjbvvq\"\u001b[39m),\n",
       "  \u001b[33mPassword\u001b[39m(\u001b[33mMetadata\u001b[39m((\u001b[32m1\u001b[39m, \u001b[32m4\u001b[39m), \u001b[32m'r'\u001b[39m), \u001b[32m\"brrjbrrrr\"\u001b[39m),\n",
       "  \u001b[33mPassword\u001b[39m(\u001b[33mMetadata\u001b[39m((\u001b[32m3\u001b[39m, \u001b[32m4\u001b[39m), \u001b[32m'l'\u001b[39m), \u001b[32m\"llvlf\"\u001b[39m),\n",
       "  \u001b[33mPassword\u001b[39m(\u001b[33mMetadata\u001b[39m((\u001b[32m16\u001b[39m, \u001b[32m17\u001b[39m), \u001b[32m'p'\u001b[39m), \u001b[32m\"pldpppppppppppqpfpp\"\u001b[39m),\n",
       "  \u001b[33mPassword\u001b[39m(\u001b[33mMetadata\u001b[39m((\u001b[32m2\u001b[39m, \u001b[32m3\u001b[39m), \u001b[32m'k'\u001b[39m), \u001b[32m\"gbklks\"\u001b[39m),\n",
       "  \u001b[33mPassword\u001b[39m(\u001b[33mMetadata\u001b[39m((\u001b[32m11\u001b[39m, \u001b[32m13\u001b[39m), \u001b[32m'g'\u001b[39m), \u001b[32m\"gggggggggggwfzg\"\u001b[39m),\n",
       "  \u001b[33mPassword\u001b[39m(\u001b[33mMetadata\u001b[39m((\u001b[32m1\u001b[39m, \u001b[32m5\u001b[39m), \u001b[32m'n'\u001b[39m), \u001b[32m\"tnnnkn\"\u001b[39m),\n",
       "...\n",
       "\u001b[36mres2_2\u001b[39m: \u001b[32mInt\u001b[39m = \u001b[32m418\u001b[39m"
      ]
     },
     "execution_count": 3,
     "metadata": {},
     "output_type": "execute_result"
    }
   ],
   "source": [
    "import scala.io.Source\n",
    "\n",
    "val data = Source.fromFile(\"input/day-02.txt\").getLines.map(Password.apply).toList\n",
    "countByPolicy(data)"
   ]
  },
  {
   "cell_type": "markdown",
   "id": "superior-quantum",
   "metadata": {},
   "source": [
    "## --- Part Two ---\n",
    "While it appears you validated the passwords correctly, they don't seem to be what the Official Toboggan Corporate Authentication System is expecting.\n",
    "\n",
    "The shopkeeper suddenly realizes that he just accidentally explained the password policy rules from his old job at the sled rental place down the street! The Official Toboggan Corporate Policy actually works a little differently.\n",
    "\n",
    "Each policy actually describes two positions in the password, where 1 means the first character, 2 means the second character, and so on. (Be careful; Toboggan Corporate Policies have no concept of \"index zero\"!) Exactly one of these positions must contain the given letter. Other occurrences of the letter are irrelevant for the purposes of policy enforcement.\n",
    "\n",
    "Given the same example list from above:\n",
    "\n",
    "```\n",
    "1-3 a: abcde is valid: position 1 contains a and position 3 does not.\n",
    "1-3 b: cdefg is invalid: neither position 1 nor position 3 contains b.\n",
    "2-9 c: ccccccccc is invalid: both position 2 and position 9 contain c.\n",
    "````\n",
    "\n",
    "How many passwords are valid according to the new interpretation of the policies?"
   ]
  },
  {
   "cell_type": "code",
   "execution_count": 4,
   "id": "sound-commission",
   "metadata": {},
   "outputs": [
    {
     "data": {
      "text/plain": [
       "\u001b[36mpolicy\u001b[39m: \u001b[32mPassword\u001b[39m => \u001b[32mBoolean\u001b[39m = ammonite.$sess.cmd3$Helper$$Lambda$2167/0x00000008013ae4e0@6ac89484\n",
       "\u001b[36mres3_1\u001b[39m: \u001b[32mInt\u001b[39m = \u001b[32m1\u001b[39m"
      ]
     },
     "execution_count": 4,
     "metadata": {},
     "output_type": "execute_result"
    }
   ],
   "source": [
    "val policy = (password : Password) => {\n",
    "    val ((first, last), c) = Metadata.unapply(password.metadata)\n",
    "    val plain = password.plain\n",
    "    (plain(first-1) == c) ^ (plain(last-1) == c)\n",
    "}\n",
    "\n",
    "countByPolicy(test, policy)"
   ]
  },
  {
   "cell_type": "code",
   "execution_count": 5,
   "id": "direct-census",
   "metadata": {},
   "outputs": [
    {
     "data": {
      "text/plain": [
       "\u001b[36mres4\u001b[39m: \u001b[32mInt\u001b[39m = \u001b[32m616\u001b[39m"
      ]
     },
     "execution_count": 5,
     "metadata": {},
     "output_type": "execute_result"
    }
   ],
   "source": [
    "countByPolicy(data, policy)"
   ]
  }
 ],
 "metadata": {
  "kernelspec": {
   "display_name": "Scala",
   "language": "scala",
   "name": "scala"
  },
  "language_info": {
   "codemirror_mode": "text/x-scala",
   "file_extension": ".sc",
   "mimetype": "text/x-scala",
   "name": "scala",
   "nbconvert_exporter": "script",
   "version": "2.13.3"
  }
 },
 "nbformat": 4,
 "nbformat_minor": 5
}
