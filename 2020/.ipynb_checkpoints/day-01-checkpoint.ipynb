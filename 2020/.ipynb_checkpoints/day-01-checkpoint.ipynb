{
 "cells": [
  {
   "cell_type": "markdown",
   "id": "intensive-auditor",
   "metadata": {},
   "source": [
    "# --- Day 1: Report Repair ---\n",
    "\n",
    "After saving Christmas five years in a row, you've decided to take a vacation at a nice resort on a tropical island. Surely, Christmas will go on without you.\n",
    "\n",
    "The tropical island has its own currency and is entirely cash-only. The gold coins used there have a little picture of a starfish; the locals just call them stars. None of the currency exchanges seem to have heard of them, but somehow, you'll need to find fifty of these coins by the time you arrive so you can pay the deposit on your room.\n",
    "\n",
    "To save your vacation, you need to get all fifty stars by December 25th.\n",
    "\n",
    "Collect stars by solving puzzles. Two puzzles will be made available on each day in the Advent calendar; the second puzzle is unlocked when you complete the first. Each puzzle grants one star. Good luck!\n",
    "\n",
    "Before you leave, the Elves in accounting just need you to fix your expense report (your puzzle input); apparently, something isn't quite adding up.\n",
    "\n",
    "Specifically, they need you to find the two entries that sum to 2020 and then multiply those two numbers together.\n",
    "\n",
    "For example, suppose your expense report contained the following:\n",
    "\n",
    "```\n",
    "1721\n",
    "979\n",
    "366\n",
    "299\n",
    "675\n",
    "1456\n",
    "````\n",
    "\n",
    "In this list, the two entries that sum to 2020 are 1721 and 299. Multiplying them together produces 1721 * 299 = 514579, so the correct answer is 514579.\n",
    "\n",
    "Of course, your expense report is much larger. Find the two entries that sum to 2020; what do you get if you multiply them together?"
   ]
  },
  {
   "cell_type": "code",
   "execution_count": 1,
   "id": "external-backing",
   "metadata": {},
   "outputs": [
    {
     "data": {
      "text/plain": [
       "defined \u001b[32mfunction\u001b[39m \u001b[36mfindBySum\u001b[39m"
      ]
     },
     "execution_count": 1,
     "metadata": {},
     "output_type": "execute_result"
    }
   ],
   "source": [
    "def findBySum(data : List[Int], sum : Int = 2020, combinations : Int = 2) : Int = {\n",
    "    data.combinations(combinations).filter(_.sum == sum).flatten.product\n",
    "}"
   ]
  },
  {
   "cell_type": "code",
   "execution_count": 2,
   "id": "organizational-patient",
   "metadata": {},
   "outputs": [
    {
     "data": {
      "text/plain": [
       "\u001b[36mtest\u001b[39m: \u001b[32mList\u001b[39m[\u001b[32mInt\u001b[39m] = \u001b[33mList\u001b[39m(\u001b[32m1721\u001b[39m, \u001b[32m979\u001b[39m, \u001b[32m366\u001b[39m, \u001b[32m299\u001b[39m, \u001b[32m675\u001b[39m, \u001b[32m1456\u001b[39m)\n",
       "\u001b[36mres1_1\u001b[39m: \u001b[32mInt\u001b[39m = \u001b[32m514579\u001b[39m"
      ]
     },
     "execution_count": 2,
     "metadata": {},
     "output_type": "execute_result"
    }
   ],
   "source": [
    "val test = List(1721, 979, 366, 299, 675, 1456)\n",
    "findBySum(test)"
   ]
  },
  {
   "cell_type": "markdown",
   "id": "bigger-tablet",
   "metadata": {},
   "source": [
    "## -- Part One --"
   ]
  },
  {
   "cell_type": "code",
   "execution_count": 3,
   "id": "equipped-persian",
   "metadata": {
    "scrolled": false
   },
   "outputs": [
    {
     "data": {
      "text/plain": [
       "\u001b[32mimport \u001b[39m\u001b[36mscala.io.Source\n",
       "\n",
       "\u001b[39m\n",
       "\u001b[36mdata\u001b[39m: \u001b[32mList\u001b[39m[\u001b[32mInt\u001b[39m] = \u001b[33mList\u001b[39m(\n",
       "  \u001b[32m1411\u001b[39m,\n",
       "  \u001b[32m1802\u001b[39m,\n",
       "  \u001b[32m1773\u001b[39m,\n",
       "  \u001b[32m1775\u001b[39m,\n",
       "  \u001b[32m1442\u001b[39m,\n",
       "  \u001b[32m1471\u001b[39m,\n",
       "  \u001b[32m1048\u001b[39m,\n",
       "  \u001b[32m1403\u001b[39m,\n",
       "  \u001b[32m1881\u001b[39m,\n",
       "  \u001b[32m1930\u001b[39m,\n",
       "  \u001b[32m1710\u001b[39m,\n",
       "  \u001b[32m1717\u001b[39m,\n",
       "  \u001b[32m685\u001b[39m,\n",
       "  \u001b[32m1255\u001b[39m,\n",
       "  \u001b[32m1451\u001b[39m,\n",
       "  \u001b[32m1870\u001b[39m,\n",
       "  \u001b[32m208\u001b[39m,\n",
       "  \u001b[32m1725\u001b[39m,\n",
       "  \u001b[32m1879\u001b[39m,\n",
       "  \u001b[32m143\u001b[39m,\n",
       "  \u001b[32m1372\u001b[39m,\n",
       "  \u001b[32m1726\u001b[39m,\n",
       "  \u001b[32m1357\u001b[39m,\n",
       "  \u001b[32m1624\u001b[39m,\n",
       "  \u001b[32m1378\u001b[39m,\n",
       "  \u001b[32m1993\u001b[39m,\n",
       "  \u001b[32m1721\u001b[39m,\n",
       "  \u001b[32m1712\u001b[39m,\n",
       "  \u001b[32m1867\u001b[39m,\n",
       "  \u001b[32m1355\u001b[39m,\n",
       "  \u001b[32m1743\u001b[39m,\n",
       "  \u001b[32m1942\u001b[39m,\n",
       "  \u001b[32m114\u001b[39m,\n",
       "  \u001b[32m407\u001b[39m,\n",
       "  \u001b[32m1892\u001b[39m,\n",
       "  \u001b[32m1937\u001b[39m,\n",
       "  \u001b[32m2001\u001b[39m,\n",
       "  \u001b[32m1466\u001b[39m,\n",
       "...\n",
       "\u001b[36mres2_2\u001b[39m: \u001b[32mInt\u001b[39m = \u001b[32m902451\u001b[39m"
      ]
     },
     "execution_count": 3,
     "metadata": {},
     "output_type": "execute_result"
    }
   ],
   "source": [
    "import scala.io.Source\n",
    "\n",
    "val data = Source.fromFile(\"input/day-01.txt\").getLines.map(_.toInt).toList\n",
    "findBySum(data)"
   ]
  },
  {
   "cell_type": "markdown",
   "id": "egyptian-armstrong",
   "metadata": {},
   "source": [
    "## --- Part Two ---\n",
    "\n",
    "The Elves in accounting are thankful for your help; one of them even offers you a starfish coin they had left over from a past vacation. They offer you a second one if you can find three numbers in your expense report that meet the same criteria.\n",
    "\n",
    "Using the above example again, the three entries that sum to 2020 are 979, 366, and 675. Multiplying them together produces the answer, 241861950.\n",
    "\n",
    "In your expense report, what is the product of the three entries that sum to 2020?"
   ]
  },
  {
   "cell_type": "code",
   "execution_count": 4,
   "id": "lonely-bicycle",
   "metadata": {},
   "outputs": [
    {
     "data": {
      "text/plain": [
       "\u001b[36mres3\u001b[39m: \u001b[32mInt\u001b[39m = \u001b[32m85555470\u001b[39m"
      ]
     },
     "execution_count": 4,
     "metadata": {},
     "output_type": "execute_result"
    }
   ],
   "source": [
    "findBySum(data, combinations = 3)"
   ]
  }
 ],
 "metadata": {
  "kernelspec": {
   "display_name": "Scala",
   "language": "scala",
   "name": "scala"
  },
  "language_info": {
   "codemirror_mode": "text/x-scala",
   "file_extension": ".sc",
   "mimetype": "text/x-scala",
   "name": "scala",
   "nbconvert_exporter": "script",
   "version": "2.13.3"
  }
 },
 "nbformat": 4,
 "nbformat_minor": 5
}
