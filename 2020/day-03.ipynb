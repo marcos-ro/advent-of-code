{
 "cells": [
  {
   "cell_type": "markdown",
   "id": "demonstrated-meeting",
   "metadata": {},
   "source": [
    "# --- Day 3: Toboggan Trajectory ---\n",
    "With the toboggan login problems resolved, you set off toward the airport. While travel by toboggan might be easy, it's certainly not safe: there's very minimal steering and the area is covered in trees. You'll need to see which angles will take you near the fewest trees.\n",
    "\n",
    "Due to the local geology, trees in this area only grow on exact integer coordinates in a grid. You make a map (your puzzle input) of the open squares (.) and trees (#) you can see. For example:\n",
    "\n",
    "```\n",
    "..##.......\n",
    "#...#...#..\n",
    ".#....#..#.\n",
    "..#.#...#.#\n",
    ".#...##..#.\n",
    "..#.##.....\n",
    ".#.#.#....#\n",
    ".#........#\n",
    "#.##...#...\n",
    "#...##....#\n",
    ".#..#...#.#\n",
    "```\n",
    "\n",
    "These aren't the only trees, though; due to something you read about once involving arboreal genetics and biome stability, the same pattern repeats to the right many times:\n",
    "\n",
    "```\n",
    "..##.........##.........##.........##.........##.........##.......  --->\n",
    "#...#...#..#...#...#..#...#...#..#...#...#..#...#...#..#...#...#..\n",
    ".#....#..#..#....#..#..#....#..#..#....#..#..#....#..#..#....#..#.\n",
    "..#.#...#.#..#.#...#.#..#.#...#.#..#.#...#.#..#.#...#.#..#.#...#.#\n",
    ".#...##..#..#...##..#..#...##..#..#...##..#..#...##..#..#...##..#.\n",
    "..#.##.......#.##.......#.##.......#.##.......#.##.......#.##.....  --->\n",
    ".#.#.#....#.#.#.#....#.#.#.#....#.#.#.#....#.#.#.#....#.#.#.#....#\n",
    ".#........#.#........#.#........#.#........#.#........#.#........#\n",
    "#.##...#...#.##...#...#.##...#...#.##...#...#.##...#...#.##...#...\n",
    "#...##....##...##....##...##....##...##....##...##....##...##....#\n",
    ".#..#...#.#.#..#...#.#.#..#...#.#.#..#...#.#.#..#...#.#.#..#...#.#  --->\n",
    "```\n",
    "\n",
    "You start on the open square (.) in the top-left corner and need to reach the bottom (below the bottom-most row on your map).\n",
    "\n",
    "The toboggan can only follow a few specific slopes (you opted for a cheaper model that prefers rational numbers); start by counting all the trees you would encounter for the slope right 3, down 1:\n",
    "\n",
    "From your starting position at the top-left, check the position that is right 3 and down 1. Then, check the position that is right 3 and down 1 from there, and so on until you go past the bottom of the map.\n",
    "\n",
    "The locations you'd check in the above example are marked here with O where there was an open square and X where there was a tree:\n",
    "\n",
    "```\n",
    "..##.........##.........##.........##.........##.........##.......  --->\n",
    "#..O#...#..#...#...#..#...#...#..#...#...#..#...#...#..#...#...#..\n",
    ".#....X..#..#....#..#..#....#..#..#....#..#..#....#..#..#....#..#.\n",
    "..#.#...#O#..#.#...#.#..#.#...#.#..#.#...#.#..#.#...#.#..#.#...#.#\n",
    ".#...##..#..X...##..#..#...##..#..#...##..#..#...##..#..#...##..#.\n",
    "..#.##.......#.X#.......#.##.......#.##.......#.##.......#.##.....  --->\n",
    ".#.#.#....#.#.#.#.O..#.#.#.#....#.#.#.#....#.#.#.#....#.#.#.#....#\n",
    ".#........#.#........X.#........#.#........#.#........#.#........#\n",
    "#.##...#...#.##...#...#.X#...#...#.##...#...#.##...#...#.##...#...\n",
    "#...##....##...##....##...#X....##...##....##...##....##...##....#\n",
    ".#..#...#.#.#..#...#.#.#..#...X.#.#..#...#.#.#..#...#.#.#..#...#.#  --->\n",
    "```\n",
    "\n",
    "In this example, traversing the map using this slope would cause you to encounter 7 trees.\n",
    "\n",
    "Starting at the top-left corner of your map and following a slope of right 3 and down 1, how many trees would you encounter?"
   ]
  },
  {
   "cell_type": "code",
   "execution_count": 1,
   "id": "qualified-invite",
   "metadata": {},
   "outputs": [
    {
     "data": {
      "text/plain": [
       "defined \u001b[32mclass\u001b[39m \u001b[36mTrajectory\u001b[39m\n",
       "defined \u001b[32mfunction\u001b[39m \u001b[36mmove\u001b[39m\n",
       "defined \u001b[32mfunction\u001b[39m \u001b[36mmove\u001b[39m"
      ]
     },
     "execution_count": 1,
     "metadata": {},
     "output_type": "execute_result"
    }
   ],
   "source": [
    "case class Trajectory(point : (Int, Int), count : Int = 0) {\n",
    "    private def ifThreeThenCount(item : Char) : Int = {\n",
    "        if(item == '#') {\n",
    "            count + 1\n",
    "        } else {\n",
    "            count\n",
    "        }\n",
    "    }\n",
    "    \n",
    "    def next(line : String, right : Int, down : Int) : Trajectory = {\n",
    "        val (x, y) = point\n",
    "        val repeat = if(y >= line.size) ((right - line.size)*(-1)*5) else 1\n",
    "        Trajectory((x+down, y+right), ifThreeThenCount(line.repeat(repeat).charAt(y)))\n",
    "    }\n",
    "}\n",
    "\n",
    "\n",
    "def move(data : List[String], right : Int = 3, down : Int = 1) : Int = {\n",
    "    move(data, right, down, Trajectory((down, right), 0))\n",
    "}\n",
    "\n",
    "def move(data : List[String], right : Int, down : Int, trajectory : Trajectory) : Int = {\n",
    "    val (x, _) = trajectory.point\n",
    "    if(x >= data.size) {\n",
    "        trajectory.count\n",
    "    } else {\n",
    "        move(data, right, down, trajectory.next(data(x), right, down))\n",
    "    }\n",
    "}"
   ]
  },
  {
   "cell_type": "code",
   "execution_count": 2,
   "id": "patient-twelve",
   "metadata": {},
   "outputs": [
    {
     "data": {
      "text/plain": [
       "\u001b[36mtest\u001b[39m: \u001b[32mList\u001b[39m[\u001b[32mString\u001b[39m] = \u001b[33mList\u001b[39m(\n",
       "  \u001b[32m\"..##.......\"\u001b[39m,\n",
       "  \u001b[32m\"#...#...#..\"\u001b[39m,\n",
       "  \u001b[32m\".#....#..#.\"\u001b[39m,\n",
       "  \u001b[32m\"..#.#...#.#\"\u001b[39m,\n",
       "  \u001b[32m\".#...##..#.\"\u001b[39m,\n",
       "  \u001b[32m\"..#.##.....\"\u001b[39m,\n",
       "  \u001b[32m\".#.#.#....#\"\u001b[39m,\n",
       "  \u001b[32m\".#........#\"\u001b[39m,\n",
       "  \u001b[32m\"#.##...#...\"\u001b[39m,\n",
       "  \u001b[32m\"#...##....#\"\u001b[39m,\n",
       "  \u001b[32m\".#..#...#.#\"\u001b[39m\n",
       ")\n",
       "\u001b[36mres1_1\u001b[39m: \u001b[32mInt\u001b[39m = \u001b[32m7\u001b[39m"
      ]
     },
     "execution_count": 2,
     "metadata": {},
     "output_type": "execute_result"
    }
   ],
   "source": [
    "val test = List(\"..##.......\",\n",
    "    \"#...#...#..\",\n",
    "    \".#....#..#.\",\n",
    "    \"..#.#...#.#\",\n",
    "    \".#...##..#.\",\n",
    "    \"..#.##.....\",\n",
    "    \".#.#.#....#\",\n",
    "    \".#........#\",\n",
    "    \"#.##...#...\",\n",
    "    \"#...##....#\",\n",
    "    \".#..#...#.#\")\n",
    "\n",
    "move(test)"
   ]
  },
  {
   "cell_type": "markdown",
   "id": "contained-interval",
   "metadata": {},
   "source": [
    "### -- Part One --"
   ]
  },
  {
   "cell_type": "code",
   "execution_count": 3,
   "id": "controversial-fundamentals",
   "metadata": {},
   "outputs": [
    {
     "data": {
      "text/plain": [
       "\u001b[32mimport \u001b[39m\u001b[36mscala.io.Source\n",
       "\n",
       "\u001b[39m\n",
       "\u001b[36mdata\u001b[39m: \u001b[32mList\u001b[39m[\u001b[32mString\u001b[39m] = \u001b[33mList\u001b[39m(\n",
       "  \u001b[32m\"......#...........#...#........\"\u001b[39m,\n",
       "  \u001b[32m\".#.....#...##.......#.....##...\"\u001b[39m,\n",
       "  \u001b[32m\"......#.#....#.................\"\u001b[39m,\n",
       "  \u001b[32m\"..............#.#.......#......\"\u001b[39m,\n",
       "  \u001b[32m\".....#.#...##...#.#..#..#..#..#\"\u001b[39m,\n",
       "  \u001b[32m\".......##...#..#...........#...\"\u001b[39m,\n",
       "  \u001b[32m\".......#.##.#...#.#.........#..\"\u001b[39m,\n",
       "  \u001b[32m\"..#...##............##......#.#\"\u001b[39m,\n",
       "  \u001b[32m\".......#.......##......##.##.#.\"\u001b[39m,\n",
       "  \u001b[32m\"...#...#........#....#........#\"\u001b[39m,\n",
       "  \u001b[32m\"#............###.#......#.....#\"\u001b[39m,\n",
       "  \u001b[32m\"..#........#....#..#..........#\"\u001b[39m,\n",
       "  \u001b[32m\"..#..##....#......#..#......#..\"\u001b[39m,\n",
       "  \u001b[32m\"........#......#......#..#..#..\"\u001b[39m,\n",
       "  \u001b[32m\"..#...#....#..##.......#.#.....\"\u001b[39m,\n",
       "  \u001b[32m\".....#.#......#..#....#.##.#..#\"\u001b[39m,\n",
       "  \u001b[32m\"......###.....#..#..........#..\"\u001b[39m,\n",
       "  \u001b[32m\".#................#.#..........\"\u001b[39m,\n",
       "  \u001b[32m\".........#..#...#......##......\"\u001b[39m,\n",
       "  \u001b[32m\"##...#....#...#.#...#.##..#....\"\u001b[39m,\n",
       "  \u001b[32m\"...##...#....#.........###.....\"\u001b[39m,\n",
       "  \u001b[32m\".#.#....#.........##...........\"\u001b[39m,\n",
       "  \u001b[32m\"....#.#..#..#...........#......\"\u001b[39m,\n",
       "  \u001b[32m\"..#..#.#....#....#...#.........\"\u001b[39m,\n",
       "  \u001b[32m\"..........##.....#.##..........\"\u001b[39m,\n",
       "  \u001b[32m\"..#.#....#..##......#.#.....##.\"\u001b[39m,\n",
       "  \u001b[32m\"..#...#.##......#..........#...\"\u001b[39m,\n",
       "  \u001b[32m\"......#....#..#.....#.....#...#\"\u001b[39m,\n",
       "  \u001b[32m\"#.#...##.#.##.........#..#.....\"\u001b[39m,\n",
       "  \u001b[32m\"...#.#.#.........#.....#.#.#...\"\u001b[39m,\n",
       "  \u001b[32m\"..#.........#...............#..\"\u001b[39m,\n",
       "  \u001b[32m\"#..##.....#.........#....#.....\"\u001b[39m,\n",
       "  \u001b[32m\"...#....##..##...........##..#.\"\u001b[39m,\n",
       "  \u001b[32m\"......##.................#.#...\"\u001b[39m,\n",
       "  \u001b[32m\"##.......#....#.#.#.....#......\"\u001b[39m,\n",
       "  \u001b[32m\"....#.#...#.................##.\"\u001b[39m,\n",
       "  \u001b[32m\"#...#.........##.....#.........\"\u001b[39m,\n",
       "  \u001b[32m\"#....#.###..#.....##.#....#....\"\u001b[39m,\n",
       "...\n",
       "\u001b[36mres2_2\u001b[39m: \u001b[32mInt\u001b[39m = \u001b[32m259\u001b[39m"
      ]
     },
     "execution_count": 3,
     "metadata": {},
     "output_type": "execute_result"
    }
   ],
   "source": [
    "import scala.io.Source\n",
    "\n",
    "val data = Source.fromFile(\"input/day-03.txt\").getLines.toList\n",
    "move(data)"
   ]
  },
  {
   "cell_type": "markdown",
   "id": "incorporate-mistake",
   "metadata": {},
   "source": [
    "## --- Part Two ---\n",
    "\n",
    "Time to check the rest of the slopes - you need to minimize the probability of a sudden arboreal stop, after all.\n",
    "\n",
    "Determine the number of trees you would encounter if, for each of the following slopes, you start at the top-left corner and traverse the map all the way to the bottom:\n",
    "\n",
    "```\n",
    "Right 1, down 1.\n",
    "Right 3, down 1. (This is the slope you already checked.)\n",
    "Right 5, down 1.\n",
    "Right 7, down 1.\n",
    "Right 1, down 2.\n",
    "````\n",
    "\n",
    "In the above example, these slopes would find 2, 7, 3, 4, and 2 tree(s) respectively; multiplied together, these produce the answer 336.\n",
    "\n",
    "What do you get if you multiply together the number of trees encountered on each of the listed slopes?"
   ]
  },
  {
   "cell_type": "code",
   "execution_count": 4,
   "id": "portuguese-cardiff",
   "metadata": {},
   "outputs": [
    {
     "data": {
      "text/plain": [
       "\u001b[36margs\u001b[39m: \u001b[32mList\u001b[39m[(\u001b[32mInt\u001b[39m, \u001b[32mInt\u001b[39m)] = \u001b[33mList\u001b[39m((\u001b[32m1\u001b[39m, \u001b[32m1\u001b[39m), (\u001b[32m3\u001b[39m, \u001b[32m1\u001b[39m), (\u001b[32m5\u001b[39m, \u001b[32m1\u001b[39m), (\u001b[32m7\u001b[39m, \u001b[32m1\u001b[39m), (\u001b[32m1\u001b[39m, \u001b[32m2\u001b[39m))\n",
       "\u001b[36mres3_1\u001b[39m: \u001b[32mInt\u001b[39m = \u001b[32m336\u001b[39m"
      ]
     },
     "execution_count": 4,
     "metadata": {},
     "output_type": "execute_result"
    }
   ],
   "source": [
    "val args = List((1, 1), (3, 1), (5, 1), (7, 1), (1, 2))\n",
    "args.map(arg => move(test, arg._1, arg._2)).product"
   ]
  },
  {
   "cell_type": "code",
   "execution_count": 5,
   "id": "imposed-hybrid",
   "metadata": {},
   "outputs": [
    {
     "data": {
      "text/plain": [
       "\u001b[36mres4\u001b[39m: \u001b[32mLong\u001b[39m = \u001b[32m2224913600L\u001b[39m"
      ]
     },
     "execution_count": 5,
     "metadata": {},
     "output_type": "execute_result"
    }
   ],
   "source": [
    "args.map(arg => move(data, arg._1, arg._2).toLong).product"
   ]
  }
 ],
 "metadata": {
  "kernelspec": {
   "display_name": "Scala",
   "language": "scala",
   "name": "scala"
  },
  "language_info": {
   "codemirror_mode": "text/x-scala",
   "file_extension": ".sc",
   "mimetype": "text/x-scala",
   "name": "scala",
   "nbconvert_exporter": "script",
   "version": "2.13.3"
  }
 },
 "nbformat": 4,
 "nbformat_minor": 5
}
